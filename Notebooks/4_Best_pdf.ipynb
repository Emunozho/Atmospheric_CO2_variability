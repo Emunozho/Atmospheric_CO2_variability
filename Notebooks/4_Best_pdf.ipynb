{
 "cells": [
  {
   "cell_type": "markdown",
   "metadata": {},
   "source": [
    "# Best probability density distribution to describe the residuals of the CO$_2$ time series.\n",
    "\n",
    "This notebook selects the 5 best distributions that fit the residuals for each site and height. Then, it selects the most common pdf describing the data. It uses the Fitter( ) library that supports 80 distributions.\n",
    "\n",
    "https://fitter.readthedocs.io/_/downloads/en/latest/pdf/"
   ]
  },
  {
   "cell_type": "markdown",
   "metadata": {},
   "source": [
    "## Libraries"
   ]
  },
  {
   "cell_type": "code",
   "execution_count": 3,
   "metadata": {},
   "outputs": [],
   "source": [
    "import numpy as np\n",
    "import pandas as pd\n",
    "import glob\n",
    "import matplotlib.pyplot as plt\n",
    "import matplotlib.dates as mdates\n",
    "import math\n",
    "from fitter import Fitter, get_common_distributions, get_distributions"
   ]
  },
  {
   "cell_type": "markdown",
   "metadata": {},
   "source": [
    "## Paths"
   ]
  },
  {
   "cell_type": "code",
   "execution_count": 4,
   "metadata": {},
   "outputs": [],
   "source": [
    "pathr='/home/_ehoyos/Documents/Data_CO2/Final_info/' # path to read the data.\n",
    "paths='/home/_ehoyos/Documents/Data_CO2/Final_results/' # path to save the results."
   ]
  },
  {
   "cell_type": "markdown",
   "metadata": {},
   "source": [
    "### Procedure"
   ]
  },
  {
   "cell_type": "code",
   "execution_count": 5,
   "metadata": {},
   "outputs": [
    {
     "name": "stdout",
     "output_type": "stream",
     "text": [
      "i=46 HEL\n",
      "k=0 HEL\n"
     ]
    },
    {
     "name": "stderr",
     "output_type": "stream",
     "text": [
      "WARNING:root:SKIPPED kstwo distribution (taking more than 30 seconds)\n",
      "WARNING:root:SKIPPED levy_stable distribution (taking more than 30 seconds)\n",
      "WARNING:root:SKIPPED mielke distribution (taking more than 30 seconds)\n",
      "WARNING:root:SKIPPED ncf distribution (taking more than 30 seconds)\n",
      "/home/_ehoyos/snap/jupyter/common/lib/python3.7/site-packages/scipy/stats/_continuous_distns.py:4837: IntegrationWarning: The integral is probably divergent, or slowly convergent.\n",
      "  intg = integrate.quad(f, -xi, np.pi/2, **intg_kwargs)[0]\n",
      "WARNING:root:SKIPPED ncx2 distribution (taking more than 30 seconds)\n",
      "WARNING:root:SKIPPED powerlognorm distribution (taking more than 30 seconds)\n",
      "WARNING:root:SKIPPED rv_continuous distribution (taking more than 30 seconds)\n",
      "WARNING:root:SKIPPED rv_histogram distribution (taking more than 30 seconds)\n",
      "WARNING:root:SKIPPED skewnorm distribution (taking more than 30 seconds)\n",
      "/home/_ehoyos/snap/jupyter/common/lib/python3.7/site-packages/scipy/integrate/quadpack.py:880: IntegrationWarning: The maximum number of subdivisions (50) has been achieved.\n",
      "  If increasing the limit yields no improvement it is advised to analyze \n",
      "  the integrand in order to determine the difficulties.  If the position of a \n",
      "  local difficulty can be determined (singularity, discontinuity) one will \n",
      "  probably gain from splitting up the interval and calling the integrator \n",
      "  on the subranges.  Perhaps a special-purpose integrator should be used.\n",
      "  **opt)\n",
      "WARNING:root:SKIPPED studentized_range distribution (taking more than 30 seconds)\n",
      "/home/_ehoyos/snap/jupyter/common/lib/python3.7/site-packages/scipy/integrate/quadpack.py:880: IntegrationWarning: The integral is probably divergent, or slowly convergent.\n",
      "  **opt)\n",
      "WARNING:root:SKIPPED vonmises distribution (taking more than 30 seconds)\n",
      "WARNING:root:SKIPPED vonmises_line distribution (taking more than 30 seconds)\n"
     ]
    },
    {
     "data": {
      "image/png": "[encoded data removed]",
      "text/plain": [
       "<Figure size 432x288 with 1 Axes>"
      ]
     },
     "metadata": {
      "needs_background": "light"
     },
     "output_type": "display_data"
    }
   ],
   "source": [
    "# Read data\n",
    "res='add'\n",
    "filesf=glob.glob(pathr+\"/*.csv\")\n",
    "namesf=[\"\" for i in range(len(filesf))] # names of ICOS sites.\n",
    "for i in range(len(filesf)):\n",
    "    namesf[i]=filesf[i].split('/')[len(filesf[i].split('/'))-1].split('.')[0].split('_')[0]  \n",
    "bm_s=[]\n",
    "info_bm=[]\n",
    "\n",
    "for ii in range(46,47):    \n",
    "#for ii in range(len(namesf)):#=====================================================>>>>>>\n",
    "    print('i='+str(ii),namesf[ii])\n",
    "    info_model=[]\n",
    "    bm=[]\n",
    "    w=namesf.index(namesf[ii])\n",
    "    dataf=pd.read_csv(filesf[w],skiprows=11)\n",
    "    line=open(filesf[w], \"r\").readlines()[0:8]\n",
    "    code=line[1].split(',')[1].strip()\n",
    "    site=line[0].split(',')[1].strip()\n",
    "    code=line[1].split(',')[1].strip()\n",
    "    country=line[2].split(',')[1].strip()\n",
    "    latitude=line[3].split(',')[1].strip()\n",
    "    longitude=line[4].split(',')[1].strip()\n",
    "    altitude=line[5].split(',')[1].strip()\n",
    "    units=line[6].split(',')[1].strip()\n",
    "    nHeights=int(line[7].split(',')[1].strip())\n",
    "    dataf[\"date\"]=pd.to_datetime(dataf[\"date\"])\n",
    "    titlesr=dataf.columns[7+4*nHeights:7+4*nHeights+2*nHeights]\n",
    "    if res=='add':titlesr=titlesr[:nHeights]\n",
    "    if res=='mul':titlesr=titlesr[nHeights:]\n",
    "    titles2=dataf.columns[7:7+nHeights] # columns of data for each height.\n",
    "    titles=dataf.columns.values.tolist()\n",
    "    \n",
    "    for k in range(nHeights):  \n",
    "        print('k='+str(k),namesf[ii])\n",
    "        var=dataf[titlesr[k]].values\n",
    "        varf=[x for x in var if math.isnan(x) == False]\n",
    "        f=Fitter(varf)\n",
    "        f.fit()\n",
    "        f.summary()\n",
    "        a=f.summary()[0:6].index\n",
    "        a1=a.tolist()\n",
    "        info=np.append(titlesr[k],a1)\n",
    "        info_model.append(info)\n",
    "        bm.append(a1)\n",
    "        \n",
    "    info_model_db=pd.DataFrame(info_model,columns=['Height','d1','d2','d3','d4','d5'])\n",
    "    info_model_db.to_csv(paths+code+'_best_pdf.csv',header=True)\n",
    "#select and save the best 5 distributions of each site and save them in a .csv file.\n",
    "# the last line contains the best 5 distributions considerig all sites.  \n",
    "    values,counts=np.unique(bm,return_counts=True)\n",
    "    ind=np.argsort(-1*counts)[:5]\n",
    "    val=values[ind]\n",
    "    bm_s.append(val)\n",
    "    info=np.append([code],val)\n",
    "    info_bm.append(info)\n",
    "    \n",
    "## 5 best models considering all sites.    \n",
    "values,counts=np.unique(bm_s,return_counts=True)    \n",
    "ind=np.argsort(-1*counts)[:5]\n",
    "best=values[ind]\n",
    "count=counts[ind]\n",
    "\n",
    "info=np.append(['all sites'],best)\n",
    "info_bm.append(info)\n",
    "info=np.append(['count'],count)\n",
    "info_bm.append(info)\n",
    "\n",
    "best_models_db=pd.DataFrame(info_bm,\n",
    "            columns=['Site','d1','d2','d3','d4','d5'])\n",
    "best_models_db.to_csv(paths+'zBest_pdf_all.csv',header=True)\n",
    "    "
   ]
  }
 ],
 "metadata": {
  "kernelspec": {
   "display_name": "Python 3",
   "language": "python",
   "name": "python3"
  },
  "language_info": {
   "codemirror_mode": {
    "name": "ipython",
    "version": 3
   },
   "file_extension": ".py",
   "mimetype": "text/x-python",
   "name": "python",
   "nbconvert_exporter": "python",
   "pygments_lexer": "ipython3",
   "version": "3.7.3"
  }
 },
 "nbformat": 4,
 "nbformat_minor": 2
}
